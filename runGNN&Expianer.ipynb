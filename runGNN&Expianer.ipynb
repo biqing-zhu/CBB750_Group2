{
 "cells": [
  {
   "cell_type": "code",
   "execution_count": 1,
   "metadata": {},
   "outputs": [],
   "source": [
    "import numpy as np\n",
    "import pandas as pd"
   ]
  },
  {
   "cell_type": "code",
   "execution_count": 5,
   "metadata": {},
   "outputs": [
    {
     "name": "stderr",
     "output_type": "stream",
     "text": [
      "/.local/lib/python3.6/site-packages/torch/cuda/__init__.py:52: UserWarning: CUDA initialization: The NVIDIA driver on your system is too old (found version 10010). Please update your GPU driver by downloading and installing a new version from the URL: http://www.nvidia.com/Download/index.aspx Alternatively, go to: https://pytorch.org to install a PyTorch version that has been compiled with your version of the CUDA driver. (Triggered internally at  /pytorch/c10/cuda/CUDAFunctions.cpp:109.)\n",
      "  return torch._C._cuda_getDeviceCount() > 0\n"
     ]
    }
   ],
   "source": [
    "import torch\n",
    "import torch_geometric.data"
   ]
  },
  {
   "cell_type": "code",
   "execution_count": 8,
   "metadata": {},
   "outputs": [],
   "source": [
    "from torch_geometric.utils import convert"
   ]
  },
  {
   "cell_type": "code",
   "execution_count": 24,
   "metadata": {},
   "outputs": [],
   "source": [
    "from torch_geometric.data import InMemoryDataset"
   ]
  },
  {
   "cell_type": "code",
   "execution_count": 56,
   "metadata": {},
   "outputs": [],
   "source": [
    "from torch_geometric.data import Data, DataLoader"
   ]
  },
  {
   "cell_type": "code",
   "execution_count": 185,
   "metadata": {},
   "outputs": [],
   "source": [
    "import torch_geometric.transforms as T\n",
    "from torch_geometric.nn import GCNConv, GNNExplainer"
   ]
  },
  {
   "cell_type": "code",
   "execution_count": 186,
   "metadata": {},
   "outputs": [],
   "source": [
    "import torch.nn.functional as F\n",
    "import matplotlib.pyplot as plt"
   ]
  },
  {
   "cell_type": "markdown",
   "metadata": {},
   "source": [
    "#### Import the ordered data"
   ]
  },
  {
   "cell_type": "code",
   "execution_count": 2,
   "metadata": {},
   "outputs": [],
   "source": [
    "five_gram_data = np.load(\"./5_gram_processed_mats.npz\",allow_pickle=True)"
   ]
  },
  {
   "cell_type": "code",
   "execution_count": 3,
   "metadata": {},
   "outputs": [],
   "source": [
    "# ordered_nodes: user names\n",
    "# ordered_adj_mat: adjacency matrix\n",
    "# ordered_node_labels: user labels\n",
    "# ordered_node_features: user 5-gram featues\n",
    "ordered_nodes = five_gram_data['arr_0']\n",
    "ordered_adj_mat= five_gram_data['arr_1']\n",
    "ordered_node_labels= five_gram_data['arr_2']\n",
    "ordered_node_features= five_gram_data['arr_3']"
   ]
  },
  {
   "cell_type": "markdown",
   "metadata": {},
   "source": [
    "#### Further cleaning"
   ]
  },
  {
   "cell_type": "code",
   "execution_count": 20,
   "metadata": {},
   "outputs": [],
   "source": [
    "ordered_adj_mat = ordered_adj_mat.item()"
   ]
  },
  {
   "cell_type": "code",
   "execution_count": 49,
   "metadata": {},
   "outputs": [],
   "source": [
    "ordered_edge_index, ordered_edge_weight = convert.from_scipy_sparse_matrix(ordered_adj_mat)"
   ]
  },
  {
   "cell_type": "code",
   "execution_count": 53,
   "metadata": {},
   "outputs": [],
   "source": [
    "# convert labels to 0s and 1s\n",
    "label_mapper = {'anti':0,'pro':1}\n",
    "ordered_node_labels_number  = np.array([label_mapper[label] for label in ordered_node_labels ])"
   ]
  },
  {
   "cell_type": "markdown",
   "metadata": {},
   "source": [
    "#### Define the dataset class as input to GNN"
   ]
  },
  {
   "cell_type": "code",
   "execution_count": 172,
   "metadata": {},
   "outputs": [],
   "source": [
    "class gram5_Dataset(InMemoryDataset):\n",
    "    def __init__(self,root, transform=None, pre_transform=None):\n",
    "        super(gram5_Dataset, self).__init__(root,transform, pre_transform)\n",
    "        \n",
    "        self.data, self.slices = torch.load(self.processed_paths[0])\n",
    "        \n",
    "\n",
    "    @property\n",
    "    def raw_file_names(self):\n",
    "        return []\n",
    "    @property\n",
    "    def processed_file_names(self):\n",
    "        return ['processed.data']\n",
    "\n",
    "    def download(self):\n",
    "        pass\n",
    "    \n",
    "    def process(self):\n",
    "        \n",
    "        print(self.processed_paths[0])\n",
    "        \n",
    "        data_list = []\n",
    "        \n",
    "        \n",
    "        edge_index = ordered_edge_index\n",
    "        y = torch.IntTensor(ordered_node_labels_number)\n",
    "        \n",
    "        data = Data(x=torch.FloatTensor(ordered_node_features), edge_index=edge_index, y=y)\n",
    "        data_list.append(data)\n",
    "        \n",
    "        new_data, slices = self.collate(data_list)\n",
    "        torch.save((new_data,slices), self.processed_paths[0])\n"
   ]
  },
  {
   "cell_type": "code",
   "execution_count": 126,
   "metadata": {},
   "outputs": [
    {
     "data": {
      "text/plain": [
       "(239, 2500)"
      ]
     },
     "execution_count": 126,
     "metadata": {},
     "output_type": "execute_result"
    }
   ],
   "source": [
    "ordered_node_features.shape"
   ]
  },
  {
   "cell_type": "code",
   "execution_count": 173,
   "metadata": {},
   "outputs": [],
   "source": [
    "# get the graph object\n",
    "gram5_graph =  gram5_Dataset(root=\"./generated_data/\")"
   ]
  },
  {
   "cell_type": "code",
   "execution_count": 174,
   "metadata": {},
   "outputs": [],
   "source": [
    "data = gram5_graph[0]"
   ]
  },
  {
   "cell_type": "code",
   "execution_count": 175,
   "metadata": {},
   "outputs": [],
   "source": [
    "dataset = gram5_graph"
   ]
  },
  {
   "cell_type": "code",
   "execution_count": 176,
   "metadata": {},
   "outputs": [
    {
     "data": {
      "text/plain": [
       "Data(edge_index=[2, 485], x=[[0 0 0 ... 0 0 0]\n",
       " [0 0 0 ... 0 0 0]\n",
       " [0 0 0 ... 0 0 0]\n",
       " ...\n",
       " [0 0 0 ... 0 0 0]\n",
       " [0 0 0 ... 0 0 0]\n",
       " [0 0 0 ... 0 0 0]], y=[239])"
      ]
     },
     "execution_count": 176,
     "metadata": {},
     "output_type": "execute_result"
    }
   ],
   "source": [
    "data"
   ]
  },
  {
   "cell_type": "code",
   "execution_count": 177,
   "metadata": {},
   "outputs": [],
   "source": [
    "data['x'] = torch.FloatTensor(data['x'])"
   ]
  },
  {
   "cell_type": "code",
   "execution_count": 178,
   "metadata": {},
   "outputs": [
    {
     "data": {
      "text/plain": [
       "Data(edge_index=[2, 485], x=[239, 2500], y=[239])"
      ]
     },
     "execution_count": 178,
     "metadata": {},
     "output_type": "execute_result"
    }
   ],
   "source": [
    "data"
   ]
  },
  {
   "cell_type": "markdown",
   "metadata": {},
   "source": [
    "#### Split the data into 80% training and 20% test"
   ]
  },
  {
   "cell_type": "code",
   "execution_count": 179,
   "metadata": {},
   "outputs": [],
   "source": [
    "shuffle_idx = np.array(range(data['x'].shape[0]))\n",
    "np.random.shuffle(shuffle_idx)"
   ]
  },
  {
   "cell_type": "code",
   "execution_count": 180,
   "metadata": {},
   "outputs": [],
   "source": [
    "train_bool = np.array([False]*len(shuffle_idx))\n",
    "test_bool = np.array([False]*len(shuffle_idx))"
   ]
  },
  {
   "cell_type": "code",
   "execution_count": 181,
   "metadata": {},
   "outputs": [],
   "source": [
    "train_bool[shuffle_idx[:int(len(shuffle_idx)*0.8)]] = True\n",
    "test_bool[shuffle_idx[int(len(shuffle_idx)*0.8):]] = True"
   ]
  },
  {
   "cell_type": "code",
   "execution_count": 182,
   "metadata": {},
   "outputs": [],
   "source": [
    "# split train/test 8:2\n",
    "data.train_mask = torch.tensor(train_bool,dtype=torch.bool)\n",
    "data.test_mask = torch.tensor(test_bool,dtype=torch.bool)"
   ]
  },
  {
   "cell_type": "code",
   "execution_count": 183,
   "metadata": {},
   "outputs": [
    {
     "name": "stdout",
     "output_type": "stream",
     "text": [
      "191\n",
      "48\n"
     ]
    }
   ],
   "source": [
    "print(data.train_mask.sum().item())\n",
    "print(data.test_mask.sum().item())"
   ]
  },
  {
   "cell_type": "markdown",
   "metadata": {},
   "source": [
    "#### Define a two-layer Graph Neural Network"
   ]
  },
  {
   "cell_type": "code",
   "execution_count": 184,
   "metadata": {},
   "outputs": [],
   "source": [
    "class Net(torch.nn.Module):\n",
    "    def __init__(self):\n",
    "        super(Net, self).__init__()\n",
    "        # dataset.num_features is 2500\n",
    "        self.conv1 = GCNConv(2500, 16)\n",
    "        # dataset.num_classes is 2\n",
    "        self.conv2 = GCNConv(16, 2)\n",
    "\n",
    "    def forward(self, x, edge_index):\n",
    "        x = F.relu(self.conv1(x, edge_index))\n",
    "        x = F.dropout(x, training=self.training)\n",
    "        x = self.conv2(x, edge_index)\n",
    "        return F.log_softmax(x, dim=1)"
   ]
  },
  {
   "cell_type": "markdown",
   "metadata": {},
   "source": [
    "#### Train the GNN"
   ]
  },
  {
   "cell_type": "code",
   "execution_count": 187,
   "metadata": {},
   "outputs": [],
   "source": [
    "# Some set-ups\n",
    "device = torch.device('cuda' if torch.cuda.is_available() else 'cpu')\n",
    "model = Net().to(device)\n",
    "data = data.to(device)\n",
    "optimizer = torch.optim.Adam(model.parameters(), lr=0.01, weight_decay=5e-4)\n",
    "x, edge_index = data.x, data.edge_index"
   ]
  },
  {
   "cell_type": "code",
   "execution_count": 195,
   "metadata": {},
   "outputs": [],
   "source": [
    "data.y = data.y.long()"
   ]
  },
  {
   "cell_type": "code",
   "execution_count": 196,
   "metadata": {},
   "outputs": [],
   "source": [
    "# train 200 epochs\n",
    "for epoch in range(1, 201):\n",
    "    model.train()\n",
    "    optimizer.zero_grad()\n",
    "    log_logits = model(x, edge_index)\n",
    "    loss = F.nll_loss(log_logits[data.train_mask], data.y[data.train_mask])\n",
    "    loss.backward()\n",
    "    optimizer.step()"
   ]
  },
  {
   "cell_type": "markdown",
   "metadata": {},
   "source": [
    "#### Test the GNN"
   ]
  },
  {
   "cell_type": "code",
   "execution_count": 224,
   "metadata": {},
   "outputs": [
    {
     "name": "stdout",
     "output_type": "stream",
     "text": [
      "Accuracy: 0.9792\n"
     ]
    }
   ],
   "source": [
    "model.eval()\n",
    "_, pred = model(x, edge_index).max(dim=1)\n",
    "correct = int(pred[data.test_mask].eq(data.y[data.test_mask]).sum().item())\n",
    "acc = correct / int(data.test_mask.sum())\n",
    "print('Accuracy: {:.4f}'.format(acc))"
   ]
  },
  {
   "cell_type": "markdown",
   "metadata": {},
   "source": [
    "#### Run GNNexplainer on some interesting nodes"
   ]
  },
  {
   "cell_type": "code",
   "execution_count": 305,
   "metadata": {},
   "outputs": [
    {
     "name": "stderr",
     "output_type": "stream",
     "text": [
      "\n",
      "  0%|          | 0/2000 [00:00<?, ?it/s]\u001b[A\n",
      "Explain node 10:   0%|          | 0/2000 [00:00<?, ?it/s]\u001b[A\n",
      "Explain node 10:   2%|▏         | 41/2000 [00:00<00:04, 409.44it/s]\u001b[A\n",
      "Explain node 10:   4%|▍         | 84/2000 [00:00<00:04, 421.00it/s]\u001b[A\n",
      "Explain node 10:   6%|▋         | 127/2000 [00:00<00:04, 424.28it/s]\u001b[A\n",
      "Explain node 10:   8%|▊         | 170/2000 [00:00<00:04, 425.64it/s]\u001b[A\n",
      "Explain node 10:  11%|█         | 213/2000 [00:00<00:04, 425.41it/s]\u001b[A\n",
      "Explain node 10:  13%|█▎        | 256/2000 [00:00<00:04, 417.98it/s]\u001b[A\n",
      "Explain node 10:  15%|█▍        | 298/2000 [00:00<00:04, 406.27it/s]\u001b[A\n",
      "Explain node 10:  17%|█▋        | 342/2000 [00:00<00:03, 414.72it/s]\u001b[A\n",
      "Explain node 10:  19%|█▉        | 386/2000 [00:00<00:03, 420.54it/s]\u001b[A\n",
      "Explain node 10:  21%|██▏       | 429/2000 [00:01<00:03, 419.61it/s]\u001b[A\n",
      "Explain node 10:  24%|██▎       | 471/2000 [00:01<00:03, 418.47it/s]\u001b[A\n",
      "Explain node 10:  26%|██▌       | 513/2000 [00:01<00:03, 418.07it/s]\u001b[A\n",
      "Explain node 10:  28%|██▊       | 555/2000 [00:01<00:03, 405.02it/s]\u001b[A\n",
      "Explain node 10:  30%|██▉       | 596/2000 [00:01<00:03, 402.39it/s]\u001b[A\n",
      "Explain node 10:  32%|███▏      | 640/2000 [00:01<00:03, 410.91it/s]\u001b[A\n",
      "Explain node 10:  34%|███▍      | 683/2000 [00:01<00:03, 414.68it/s]\u001b[A\n",
      "Explain node 10:  36%|███▋      | 725/2000 [00:01<00:03, 412.24it/s]\u001b[A\n",
      "Explain node 10:  38%|███▊      | 767/2000 [00:01<00:02, 413.77it/s]\u001b[A\n",
      "Explain node 10:  40%|████      | 809/2000 [00:01<00:02, 412.99it/s]\u001b[A\n",
      "Explain node 10:  43%|████▎     | 851/2000 [00:02<00:02, 401.69it/s]\u001b[A\n",
      "Explain node 10:  45%|████▍     | 892/2000 [00:02<00:02, 399.35it/s]\u001b[A\n",
      "Explain node 10:  47%|████▋     | 932/2000 [00:02<00:02, 396.28it/s]\u001b[A\n",
      "Explain node 10:  49%|████▊     | 972/2000 [00:02<00:02, 392.09it/s]\u001b[A\n",
      "Explain node 10:  51%|█████     | 1012/2000 [00:02<00:02, 390.24it/s]\u001b[A\n",
      "Explain node 10:  53%|█████▎    | 1054/2000 [00:02<00:02, 397.12it/s]\u001b[A\n",
      "Explain node 10:  55%|█████▍    | 1095/2000 [00:02<00:02, 400.66it/s]\u001b[A\n",
      "Explain node 10:  57%|█████▋    | 1139/2000 [00:02<00:02, 410.04it/s]\u001b[A\n",
      "Explain node 10:  59%|█████▉    | 1183/2000 [00:02<00:01, 416.55it/s]\u001b[A\n",
      "Explain node 10:  61%|██████▏   | 1227/2000 [00:02<00:01, 420.91it/s]\u001b[A\n",
      "Explain node 10:  64%|██████▎   | 1271/2000 [00:03<00:01, 425.14it/s]\u001b[A\n",
      "Explain node 10:  66%|██████▌   | 1314/2000 [00:03<00:01, 421.78it/s]\u001b[A\n",
      "Explain node 10:  68%|██████▊   | 1357/2000 [00:03<00:01, 417.99it/s]\u001b[A\n",
      "Explain node 10:  70%|██████▉   | 1399/2000 [00:03<00:01, 413.90it/s]\u001b[A\n",
      "Explain node 10:  72%|███████▏  | 1441/2000 [00:03<00:01, 409.96it/s]\u001b[A\n",
      "Explain node 10:  74%|███████▍  | 1483/2000 [00:03<00:01, 407.09it/s]\u001b[A\n",
      "Explain node 10:  76%|███████▌  | 1524/2000 [00:03<00:01, 398.10it/s]\u001b[A\n",
      "Explain node 10:  78%|███████▊  | 1564/2000 [00:03<00:01, 394.37it/s]\u001b[A\n",
      "Explain node 10:  80%|████████  | 1607/2000 [00:03<00:00, 404.04it/s]\u001b[A\n",
      "Explain node 10:  82%|████████▏ | 1648/2000 [00:04<00:00, 405.45it/s]\u001b[A\n",
      "Explain node 10:  85%|████████▍ | 1691/2000 [00:04<00:00, 411.87it/s]\u001b[A\n",
      "Explain node 10:  87%|████████▋ | 1733/2000 [00:04<00:00, 405.37it/s]\u001b[A\n",
      "Explain node 10:  89%|████████▊ | 1774/2000 [00:04<00:00, 403.58it/s]\u001b[A\n",
      "Explain node 10:  91%|█████████ | 1815/2000 [00:04<00:00, 404.69it/s]\u001b[A\n",
      "Explain node 10:  93%|█████████▎| 1858/2000 [00:04<00:00, 411.20it/s]\u001b[A\n",
      "Explain node 10:  95%|█████████▌| 1900/2000 [00:04<00:00, 376.44it/s]\u001b[A\n",
      "Explain node 10:  97%|█████████▋| 1939/2000 [00:04<00:00, 366.12it/s]\u001b[A\n",
      "Explain node 10: 100%|██████████| 2000/2000 [00:04<00:00, 404.42it/s]\u001b[A\n"
     ]
    },
    {
     "data": {
      "image/png": "[encoded data removed]",
      "text/plain": [
       "<Figure size 432x288 with 1 Axes>"
      ]
     },
     "metadata": {},
     "output_type": "display_data"
    }
   ],
   "source": [
    "explainer = GNNExplainer(model, epochs=2000, lr=0.001,return_type='log_prob')\n",
    "node_idx = 10\n",
    "node_feat_mask, edge_mask = explainer.explain_node(node_idx, x, edge_index)\n",
    "ax, G = explainer.visualize_subgraph(node_idx, edge_index, edge_mask, y=data.y)\n",
    "plt.savefig(\"./node10_explain2.png\")"
   ]
  },
  {
   "cell_type": "code",
   "execution_count": 285,
   "metadata": {},
   "outputs": [
    {
     "name": "stderr",
     "output_type": "stream",
     "text": [
      "Explain node 19: 100%|██████████| 200/200 [00:00<00:00, 377.76it/s]\n"
     ]
    },
    {
     "data": {
      "image/png": "[encoded data removed]",
      "text/plain": [
       "<Figure size 432x288 with 1 Axes>"
      ]
     },
     "metadata": {},
     "output_type": "display_data"
    }
   ],
   "source": [
    "node_idx = 19\n",
    "node_feat_mask, edge_mask = explainer.explain_node(node_idx, x, edge_index)\n",
    "ax, G = explainer.visualize_subgraph(node_idx, edge_index, edge_mask, y=data.y)\n",
    "plt.savefig(\"./node19_explain.png\")"
   ]
  },
  {
   "cell_type": "markdown",
   "metadata": {},
   "source": [
    "#### check the tweets from these users in the original datasets"
   ]
  },
  {
   "cell_type": "code",
   "execution_count": 217,
   "metadata": {},
   "outputs": [
    {
     "data": {
      "text/plain": [
       "'NaomiCu82684889'"
      ]
     },
     "execution_count": 217,
     "metadata": {},
     "output_type": "execute_result"
    }
   ],
   "source": [
    "ordered_nodes[10]"
   ]
  },
  {
   "cell_type": "code",
   "execution_count": 218,
   "metadata": {},
   "outputs": [
    {
     "data": {
      "text/plain": [
       "'NLeespeaking'"
      ]
     },
     "execution_count": 218,
     "metadata": {},
     "output_type": "execute_result"
    }
   ],
   "source": [
    "ordered_nodes[223]"
   ]
  },
  {
   "cell_type": "code",
   "execution_count": 231,
   "metadata": {},
   "outputs": [
    {
     "data": {
      "text/plain": [
       "'Valkyrie20201'"
      ]
     },
     "execution_count": 231,
     "metadata": {},
     "output_type": "execute_result"
    }
   ],
   "source": [
    "ordered_nodes[164]"
   ]
  },
  {
   "cell_type": "code",
   "execution_count": 247,
   "metadata": {},
   "outputs": [],
   "source": [
    "ordered_adj_mat_np = ordered_adj_mat.toarray()"
   ]
  },
  {
   "cell_type": "code",
   "execution_count": 248,
   "metadata": {},
   "outputs": [
    {
     "data": {
      "text/plain": [
       "array([[0, 0, 0, ..., 0, 0, 0],\n",
       "       [0, 0, 0, ..., 0, 0, 0],\n",
       "       [0, 0, 0, ..., 0, 0, 0],\n",
       "       ...,\n",
       "       [0, 0, 0, ..., 0, 0, 0],\n",
       "       [0, 0, 0, ..., 0, 0, 0],\n",
       "       [0, 0, 0, ..., 0, 0, 0]])"
      ]
     },
     "execution_count": 248,
     "metadata": {},
     "output_type": "execute_result"
    }
   ],
   "source": [
    "ordered_adj_mat_np"
   ]
  },
  {
   "cell_type": "code",
   "execution_count": 242,
   "metadata": {},
   "outputs": [
    {
     "data": {
      "text/plain": [
       "'shimmerwood1'"
      ]
     },
     "execution_count": 242,
     "metadata": {},
     "output_type": "execute_result"
    }
   ],
   "source": [
    "ordered_nodes[19]"
   ]
  },
  {
   "cell_type": "code",
   "execution_count": 287,
   "metadata": {},
   "outputs": [
    {
     "data": {
      "text/plain": [
       "'NatashaForder'"
      ]
     },
     "execution_count": 287,
     "metadata": {},
     "output_type": "execute_result"
    }
   ],
   "source": [
    "ordered_nodes[205]"
   ]
  },
  {
   "cell_type": "code",
   "execution_count": 286,
   "metadata": {},
   "outputs": [
    {
     "data": {
      "text/plain": [
       "'misterstubbs'"
      ]
     },
     "execution_count": 286,
     "metadata": {},
     "output_type": "execute_result"
    }
   ],
   "source": [
    "ordered_nodes[47]"
   ]
  },
  {
   "cell_type": "code",
   "execution_count": 243,
   "metadata": {},
   "outputs": [
    {
     "data": {
      "text/plain": [
       "'JohnMappin'"
      ]
     },
     "execution_count": 243,
     "metadata": {},
     "output_type": "execute_result"
    }
   ],
   "source": [
    "ordered_nodes[199]"
   ]
  },
  {
   "cell_type": "code",
   "execution_count": 244,
   "metadata": {},
   "outputs": [
    {
     "data": {
      "text/plain": [
       "'TheFreds'"
      ]
     },
     "execution_count": 244,
     "metadata": {},
     "output_type": "execute_result"
    }
   ],
   "source": [
    "ordered_nodes[177]"
   ]
  },
  {
   "cell_type": "code",
   "execution_count": 265,
   "metadata": {},
   "outputs": [
    {
     "data": {
      "text/plain": [
       "'rainbowz08'"
      ]
     },
     "execution_count": 265,
     "metadata": {},
     "output_type": "execute_result"
    }
   ],
   "source": [
    "ordered_nodes[221]"
   ]
  },
  {
   "cell_type": "code",
   "execution_count": 266,
   "metadata": {},
   "outputs": [
    {
     "data": {
      "text/plain": [
       "'CHRISTI11638367'"
      ]
     },
     "execution_count": 266,
     "metadata": {},
     "output_type": "execute_result"
    }
   ],
   "source": [
    "ordered_nodes[213]"
   ]
  },
  {
   "cell_type": "code",
   "execution_count": 279,
   "metadata": {},
   "outputs": [
    {
     "data": {
      "text/plain": [
       "'lizzymasonart'"
      ]
     },
     "execution_count": 279,
     "metadata": {},
     "output_type": "execute_result"
    }
   ],
   "source": [
    "ordered_nodes[222]"
   ]
  }
 ],
 "metadata": {
  "kernelspec": {
   "display_name": "Python 3",
   "language": "python",
   "name": "python3"
  },
  "language_info": {
   "codemirror_mode": {
    "name": "ipython",
    "version": 3
   },
   "file_extension": ".py",
   "mimetype": "text/x-python",
   "name": "python",
   "nbconvert_exporter": "python",
   "pygments_lexer": "ipython3",
   "version": "3.6.9"
  }
 },
 "nbformat": 4,
 "nbformat_minor": 4
}
