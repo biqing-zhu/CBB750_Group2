{
 "cells": [
  {
   "cell_type": "code",
   "execution_count": 2,
   "metadata": {},
   "outputs": [],
   "source": [
    "import pandas as pd\n",
    "import preprocessor as p\n",
    "import re"
   ]
  },
  {
   "cell_type": "code",
   "execution_count": 3,
   "metadata": {},
   "outputs": [
    {
     "data": {
      "text/html": [
       "<div>\n",
       "<style scoped>\n",
       "    .dataframe tbody tr th:only-of-type {\n",
       "        vertical-align: middle;\n",
       "    }\n",
       "\n",
       "    .dataframe tbody tr th {\n",
       "        vertical-align: top;\n",
       "    }\n",
       "\n",
       "    .dataframe thead th {\n",
       "        text-align: right;\n",
       "    }\n",
       "</style>\n",
       "<table border=\"1\" class=\"dataframe\">\n",
       "  <thead>\n",
       "    <tr style=\"text-align: right;\">\n",
       "      <th></th>\n",
       "      <th>Tweet</th>\n",
       "      <th>Nour_label</th>\n",
       "    </tr>\n",
       "  </thead>\n",
       "  <tbody>\n",
       "    <tr>\n",
       "      <th>0</th>\n",
       "      <td>Zika virus vaccine shows promise for treatment...</td>\n",
       "      <td>0</td>\n",
       "    </tr>\n",
       "    <tr>\n",
       "      <th>1</th>\n",
       "      <td>A vaccine thanks to Donald Trump.</td>\n",
       "      <td>0</td>\n",
       "    </tr>\n",
       "    <tr>\n",
       "      <th>2</th>\n",
       "      <td>Australia begins production of Oxford-develope...</td>\n",
       "      <td>0</td>\n",
       "    </tr>\n",
       "    <tr>\n",
       "      <th>3</th>\n",
       "      <td>Hey twitter! During quarantine, my dad wrote a...</td>\n",
       "      <td>0</td>\n",
       "    </tr>\n",
       "    <tr>\n",
       "      <th>4</th>\n",
       "      <td>@growthpundit @naomirwolf There is no such thi...</td>\n",
       "      <td>2</td>\n",
       "    </tr>\n",
       "    <tr>\n",
       "      <th>...</th>\n",
       "      <td>...</td>\n",
       "      <td>...</td>\n",
       "    </tr>\n",
       "    <tr>\n",
       "      <th>2118</th>\n",
       "      <td>Yes, vaccines cause autism if you let black pe...</td>\n",
       "      <td>1</td>\n",
       "    </tr>\n",
       "    <tr>\n",
       "      <th>2119</th>\n",
       "      <td>Monday Motivation:\\n\\nToday is your opportunit...</td>\n",
       "      <td>0</td>\n",
       "    </tr>\n",
       "    <tr>\n",
       "      <th>2120</th>\n",
       "      <td>@JohnKel88765186 @TheAceCharles @BigMoFoJoe @R...</td>\n",
       "      <td>0</td>\n",
       "    </tr>\n",
       "    <tr>\n",
       "      <th>2121</th>\n",
       "      <td>Americans opt for change - https://t.co/P6V9Nq...</td>\n",
       "      <td>0</td>\n",
       "    </tr>\n",
       "    <tr>\n",
       "      <th>2122</th>\n",
       "      <td>Joe is not magically making Corona virus go aw...</td>\n",
       "      <td>2</td>\n",
       "    </tr>\n",
       "  </tbody>\n",
       "</table>\n",
       "<p>2123 rows × 2 columns</p>\n",
       "</div>"
      ],
      "text/plain": [
       "                                                  Tweet  Nour_label\n",
       "0     Zika virus vaccine shows promise for treatment...           0\n",
       "1                     A vaccine thanks to Donald Trump.           0\n",
       "2     Australia begins production of Oxford-develope...           0\n",
       "3     Hey twitter! During quarantine, my dad wrote a...           0\n",
       "4     @growthpundit @naomirwolf There is no such thi...           2\n",
       "...                                                 ...         ...\n",
       "2118  Yes, vaccines cause autism if you let black pe...           1\n",
       "2119  Monday Motivation:\\n\\nToday is your opportunit...           0\n",
       "2120  @JohnKel88765186 @TheAceCharles @BigMoFoJoe @R...           0\n",
       "2121  Americans opt for change - https://t.co/P6V9Nq...           0\n",
       "2122  Joe is not magically making Corona virus go aw...           2\n",
       "\n",
       "[2123 rows x 2 columns]"
      ]
     },
     "execution_count": 3,
     "metadata": {},
     "output_type": "execute_result"
    }
   ],
   "source": [
    "data = pd.read_csv('/Users/mac/Desktop/Yale/courses/CBB 750/Project/Data/vaccine_labeled_tweets.csv')\n",
    "data = data.drop(['Unnamed: 0'], axis=1)\n",
    "data"
   ]
  },
  {
   "cell_type": "code",
   "execution_count": 6,
   "metadata": {},
   "outputs": [],
   "source": [
    "data = data.rename(columns={\"Nour_label\": \"Label\"})"
   ]
  },
  {
   "cell_type": "code",
   "execution_count": 7,
   "metadata": {},
   "outputs": [
    {
     "data": {
      "text/plain": [
       "Tweet    0\n",
       "Label    0\n",
       "dtype: int64"
      ]
     },
     "execution_count": 7,
     "metadata": {},
     "output_type": "execute_result"
    }
   ],
   "source": [
    "data.isnull().sum()"
   ]
  },
  {
   "cell_type": "code",
   "execution_count": 8,
   "metadata": {},
   "outputs": [
    {
     "data": {
      "text/plain": [
       "array([[<AxesSubplot:title={'center':'Label'}>]], dtype=object)"
      ]
     },
     "execution_count": 8,
     "metadata": {},
     "output_type": "execute_result"
    },
    {
     "data": {
      "image/png": "[encoded data removed]",
      "text/plain": [
       "<Figure size 432x288 with 1 Axes>"
      ]
     },
     "metadata": {
      "needs_background": "light"
     },
     "output_type": "display_data"
    }
   ],
   "source": [
    "## Label distribution\n",
    "data.hist(bins = 30, color = 'r')"
   ]
  },
  {
   "cell_type": "code",
   "execution_count": 9,
   "metadata": {},
   "outputs": [
    {
     "data": {
      "text/plain": [
       "0    1325\n",
       "1     496\n",
       "2     302\n",
       "Name: Label, dtype: int64"
      ]
     },
     "execution_count": 9,
     "metadata": {},
     "output_type": "execute_result"
    }
   ],
   "source": [
    "data['Label'].value_counts()"
   ]
  },
  {
   "cell_type": "code",
   "execution_count": 10,
   "metadata": {},
   "outputs": [],
   "source": [
    "#set up punctuations we want to be replaced\n",
    "REPLACE_NO_SPACE = re.compile(\"(\\.)|(\\;)|(\\:)|(\\!)|(\\')|(\\?)|(\\,)|(\\\")|(\\|)|(\\()|(\\))|(\\[)|(\\])|(\\%)|(\\$)|(\\>)|(\\<)|(\\{)|(\\})\")\n",
    "REPLACE_WITH_SPACE = re.compile(\"(<br\\s/><br\\s/?)|(-)|(/)|(:).\")\n",
    "\n",
    "\n",
    "def clean_tweets(df):\n",
    "    tempArr = []\n",
    "    for line in df:\n",
    "        #send to tweet_processor\n",
    "        tmpL = p.clean(line)\n",
    "        #remove puctuation\n",
    "        tmpL = REPLACE_NO_SPACE.sub(\"\", tmpL.lower()) # convert all tweets to lower cases\n",
    "        tmpL = REPLACE_WITH_SPACE.sub(\" \", tmpL)\n",
    "        tempArr.append(tmpL)\n",
    "    return tempArr"
   ]
  },
  {
   "cell_type": "code",
   "execution_count": 11,
   "metadata": {},
   "outputs": [
    {
     "data": {
      "text/html": [
       "<div>\n",
       "<style scoped>\n",
       "    .dataframe tbody tr th:only-of-type {\n",
       "        vertical-align: middle;\n",
       "    }\n",
       "\n",
       "    .dataframe tbody tr th {\n",
       "        vertical-align: top;\n",
       "    }\n",
       "\n",
       "    .dataframe thead th {\n",
       "        text-align: right;\n",
       "    }\n",
       "</style>\n",
       "<table border=\"1\" class=\"dataframe\">\n",
       "  <thead>\n",
       "    <tr style=\"text-align: right;\">\n",
       "      <th></th>\n",
       "      <th>Tweet</th>\n",
       "      <th>Label</th>\n",
       "      <th>Clean_tweet</th>\n",
       "    </tr>\n",
       "  </thead>\n",
       "  <tbody>\n",
       "    <tr>\n",
       "      <th>0</th>\n",
       "      <td>Zika virus vaccine shows promise for treatment...</td>\n",
       "      <td>0</td>\n",
       "      <td>zika virus vaccine shows promise for treatment...</td>\n",
       "    </tr>\n",
       "    <tr>\n",
       "      <th>1</th>\n",
       "      <td>A vaccine thanks to Donald Trump.</td>\n",
       "      <td>0</td>\n",
       "      <td>a vaccine thanks to donald trump</td>\n",
       "    </tr>\n",
       "    <tr>\n",
       "      <th>2</th>\n",
       "      <td>Australia begins production of Oxford-develope...</td>\n",
       "      <td>0</td>\n",
       "      <td>australia begins production of oxford developed</td>\n",
       "    </tr>\n",
       "    <tr>\n",
       "      <th>3</th>\n",
       "      <td>Hey twitter! During quarantine, my dad wrote a...</td>\n",
       "      <td>0</td>\n",
       "      <td>hey twitter during quarantine my dad wrote a b...</td>\n",
       "    </tr>\n",
       "    <tr>\n",
       "      <th>4</th>\n",
       "      <td>@growthpundit @naomirwolf There is no such thi...</td>\n",
       "      <td>2</td>\n",
       "      <td>there is no such thing as herd immunity unless...</td>\n",
       "    </tr>\n",
       "    <tr>\n",
       "      <th>5</th>\n",
       "      <td>RT @CBSNews: AstraZeneca says COVID-19 vaccine...</td>\n",
       "      <td>0</td>\n",
       "      <td>astrazeneca says covid 19 vaccine could arriv...</td>\n",
       "    </tr>\n",
       "  </tbody>\n",
       "</table>\n",
       "</div>"
      ],
      "text/plain": [
       "                                               Tweet  Label  \\\n",
       "0  Zika virus vaccine shows promise for treatment...      0   \n",
       "1                  A vaccine thanks to Donald Trump.      0   \n",
       "2  Australia begins production of Oxford-develope...      0   \n",
       "3  Hey twitter! During quarantine, my dad wrote a...      0   \n",
       "4  @growthpundit @naomirwolf There is no such thi...      2   \n",
       "5  RT @CBSNews: AstraZeneca says COVID-19 vaccine...      0   \n",
       "\n",
       "                                         Clean_tweet  \n",
       "0  zika virus vaccine shows promise for treatment...  \n",
       "1                   a vaccine thanks to donald trump  \n",
       "2    australia begins production of oxford developed  \n",
       "3  hey twitter during quarantine my dad wrote a b...  \n",
       "4  there is no such thing as herd immunity unless...  \n",
       "5   astrazeneca says covid 19 vaccine could arriv...  "
      ]
     },
     "execution_count": 11,
     "metadata": {},
     "output_type": "execute_result"
    }
   ],
   "source": [
    "## Clean text data\n",
    "data['Clean_tweet'] = clean_tweets(data['Tweet'])\n",
    "data.head(6)"
   ]
  },
  {
   "cell_type": "code",
   "execution_count": null,
   "metadata": {},
   "outputs": [],
   "source": [
    "## Train CountVectorizer using different grams and save models\n",
    "for i in range(2, 6):\n",
    "    tf_vectorizer = CountVectorizer(max_features=2500,\n",
    "                                ngram_range=(1, i), \n",
    "                                stop_words='english')\n",
    "\n",
    "    tf = tf_vectorizer.fit(data['Clean_tweet'])\n",
    "    filename = '/Users/mac/Desktop/Yale/courses/CBB 750/Project/Models/'+'tf'+str(i)+'.sav'\n",
    "    pickle.dump(tf, open(filename, 'wb'))"
   ]
  }
 ],
 "metadata": {
  "kernelspec": {
   "display_name": "Python 3",
   "language": "python",
   "name": "python3"
  },
  "language_info": {
   "codemirror_mode": {
    "name": "ipython",
    "version": 3
   },
   "file_extension": ".py",
   "mimetype": "text/x-python",
   "name": "python",
   "nbconvert_exporter": "python",
   "pygments_lexer": "ipython3",
   "version": "3.7.7"
  }
 },
 "nbformat": 4,
 "nbformat_minor": 4
}
