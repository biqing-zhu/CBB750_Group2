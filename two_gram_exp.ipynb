{
 "cells": [
  {
   "cell_type": "markdown",
   "metadata": {},
   "source": [
    "## Load the packages"
   ]
  },
  {
   "cell_type": "code",
   "execution_count": 1,
   "metadata": {},
   "outputs": [],
   "source": [
    "import numpy as np\n",
    "import pandas as pd\n",
    "from collections import Counter\n",
    "import scipy.stats\n",
    "from sklearn.model_selection import train_test_split\n",
    "from sklearn.model_selection import RandomizedSearchCV\n",
    "from sklearn.metrics import roc_auc_score\n",
    "\n",
    "# Load classifiers\n",
    "from sklearn.linear_model import LogisticRegression as LR\n",
    "from sklearn.ensemble import RandomForestClassifier as RF\n",
    "from sklearn.ensemble import AdaBoostClassifier\n",
    "from sklearn.svm import SVC"
   ]
  },
  {
   "cell_type": "markdown",
   "metadata": {},
   "source": [
    "## Load the data (2gram model) and labels"
   ]
  },
  {
   "cell_type": "code",
   "execution_count": 2,
   "metadata": {},
   "outputs": [],
   "source": [
    "X_df = pd.read_csv(\"./mat_2gram.csv\",index_col=0)"
   ]
  },
  {
   "cell_type": "code",
   "execution_count": 3,
   "metadata": {},
   "outputs": [
    {
     "data": {
      "text/html": [
       "<div>\n",
       "<style scoped>\n",
       "    .dataframe tbody tr th:only-of-type {\n",
       "        vertical-align: middle;\n",
       "    }\n",
       "\n",
       "    .dataframe tbody tr th {\n",
       "        vertical-align: top;\n",
       "    }\n",
       "\n",
       "    .dataframe thead th {\n",
       "        text-align: right;\n",
       "    }\n",
       "</style>\n",
       "<table border=\"1\" class=\"dataframe\">\n",
       "  <thead>\n",
       "    <tr style=\"text-align: right;\">\n",
       "      <th></th>\n",
       "      <th>08</th>\n",
       "      <th>100</th>\n",
       "      <th>19</th>\n",
       "      <th>19 vaccine</th>\n",
       "      <th>19 vaccines</th>\n",
       "      <th>2020</th>\n",
       "      <th>ab</th>\n",
       "      <th>able</th>\n",
       "      <th>able wini</th>\n",
       "      <th>absolutely</th>\n",
       "      <th>...</th>\n",
       "      <th>years</th>\n",
       "      <th>years biden</th>\n",
       "      <th>years develop</th>\n",
       "      <th>years lockdown</th>\n",
       "      <th>yes</th>\n",
       "      <th>yes gates</th>\n",
       "      <th>york</th>\n",
       "      <th>young</th>\n",
       "      <th>youre</th>\n",
       "      <th>zero</th>\n",
       "    </tr>\n",
       "  </thead>\n",
       "  <tbody>\n",
       "    <tr>\n",
       "      <th>0</th>\n",
       "      <td>0</td>\n",
       "      <td>0</td>\n",
       "      <td>1</td>\n",
       "      <td>1</td>\n",
       "      <td>0</td>\n",
       "      <td>0</td>\n",
       "      <td>0</td>\n",
       "      <td>0</td>\n",
       "      <td>0</td>\n",
       "      <td>0</td>\n",
       "      <td>...</td>\n",
       "      <td>0</td>\n",
       "      <td>0</td>\n",
       "      <td>0</td>\n",
       "      <td>0</td>\n",
       "      <td>0</td>\n",
       "      <td>0</td>\n",
       "      <td>0</td>\n",
       "      <td>0</td>\n",
       "      <td>0</td>\n",
       "      <td>0</td>\n",
       "    </tr>\n",
       "    <tr>\n",
       "      <th>1</th>\n",
       "      <td>0</td>\n",
       "      <td>0</td>\n",
       "      <td>0</td>\n",
       "      <td>0</td>\n",
       "      <td>0</td>\n",
       "      <td>0</td>\n",
       "      <td>0</td>\n",
       "      <td>0</td>\n",
       "      <td>0</td>\n",
       "      <td>0</td>\n",
       "      <td>...</td>\n",
       "      <td>0</td>\n",
       "      <td>0</td>\n",
       "      <td>0</td>\n",
       "      <td>0</td>\n",
       "      <td>0</td>\n",
       "      <td>0</td>\n",
       "      <td>0</td>\n",
       "      <td>0</td>\n",
       "      <td>0</td>\n",
       "      <td>0</td>\n",
       "    </tr>\n",
       "    <tr>\n",
       "      <th>2</th>\n",
       "      <td>0</td>\n",
       "      <td>0</td>\n",
       "      <td>0</td>\n",
       "      <td>0</td>\n",
       "      <td>0</td>\n",
       "      <td>0</td>\n",
       "      <td>0</td>\n",
       "      <td>0</td>\n",
       "      <td>0</td>\n",
       "      <td>0</td>\n",
       "      <td>...</td>\n",
       "      <td>0</td>\n",
       "      <td>0</td>\n",
       "      <td>0</td>\n",
       "      <td>0</td>\n",
       "      <td>0</td>\n",
       "      <td>0</td>\n",
       "      <td>0</td>\n",
       "      <td>0</td>\n",
       "      <td>0</td>\n",
       "      <td>0</td>\n",
       "    </tr>\n",
       "    <tr>\n",
       "      <th>3</th>\n",
       "      <td>0</td>\n",
       "      <td>0</td>\n",
       "      <td>0</td>\n",
       "      <td>0</td>\n",
       "      <td>0</td>\n",
       "      <td>0</td>\n",
       "      <td>0</td>\n",
       "      <td>0</td>\n",
       "      <td>0</td>\n",
       "      <td>0</td>\n",
       "      <td>...</td>\n",
       "      <td>0</td>\n",
       "      <td>0</td>\n",
       "      <td>0</td>\n",
       "      <td>0</td>\n",
       "      <td>0</td>\n",
       "      <td>0</td>\n",
       "      <td>0</td>\n",
       "      <td>0</td>\n",
       "      <td>0</td>\n",
       "      <td>0</td>\n",
       "    </tr>\n",
       "    <tr>\n",
       "      <th>4</th>\n",
       "      <td>0</td>\n",
       "      <td>0</td>\n",
       "      <td>1</td>\n",
       "      <td>1</td>\n",
       "      <td>0</td>\n",
       "      <td>0</td>\n",
       "      <td>0</td>\n",
       "      <td>0</td>\n",
       "      <td>0</td>\n",
       "      <td>0</td>\n",
       "      <td>...</td>\n",
       "      <td>0</td>\n",
       "      <td>0</td>\n",
       "      <td>0</td>\n",
       "      <td>0</td>\n",
       "      <td>0</td>\n",
       "      <td>0</td>\n",
       "      <td>0</td>\n",
       "      <td>0</td>\n",
       "      <td>0</td>\n",
       "      <td>0</td>\n",
       "    </tr>\n",
       "    <tr>\n",
       "      <th>...</th>\n",
       "      <td>...</td>\n",
       "      <td>...</td>\n",
       "      <td>...</td>\n",
       "      <td>...</td>\n",
       "      <td>...</td>\n",
       "      <td>...</td>\n",
       "      <td>...</td>\n",
       "      <td>...</td>\n",
       "      <td>...</td>\n",
       "      <td>...</td>\n",
       "      <td>...</td>\n",
       "      <td>...</td>\n",
       "      <td>...</td>\n",
       "      <td>...</td>\n",
       "      <td>...</td>\n",
       "      <td>...</td>\n",
       "      <td>...</td>\n",
       "      <td>...</td>\n",
       "      <td>...</td>\n",
       "      <td>...</td>\n",
       "      <td>...</td>\n",
       "    </tr>\n",
       "    <tr>\n",
       "      <th>1694</th>\n",
       "      <td>0</td>\n",
       "      <td>0</td>\n",
       "      <td>0</td>\n",
       "      <td>0</td>\n",
       "      <td>0</td>\n",
       "      <td>0</td>\n",
       "      <td>0</td>\n",
       "      <td>0</td>\n",
       "      <td>0</td>\n",
       "      <td>0</td>\n",
       "      <td>...</td>\n",
       "      <td>0</td>\n",
       "      <td>0</td>\n",
       "      <td>0</td>\n",
       "      <td>0</td>\n",
       "      <td>0</td>\n",
       "      <td>0</td>\n",
       "      <td>0</td>\n",
       "      <td>0</td>\n",
       "      <td>0</td>\n",
       "      <td>0</td>\n",
       "    </tr>\n",
       "    <tr>\n",
       "      <th>1695</th>\n",
       "      <td>0</td>\n",
       "      <td>0</td>\n",
       "      <td>0</td>\n",
       "      <td>0</td>\n",
       "      <td>0</td>\n",
       "      <td>0</td>\n",
       "      <td>0</td>\n",
       "      <td>0</td>\n",
       "      <td>0</td>\n",
       "      <td>0</td>\n",
       "      <td>...</td>\n",
       "      <td>0</td>\n",
       "      <td>0</td>\n",
       "      <td>0</td>\n",
       "      <td>0</td>\n",
       "      <td>0</td>\n",
       "      <td>0</td>\n",
       "      <td>0</td>\n",
       "      <td>0</td>\n",
       "      <td>0</td>\n",
       "      <td>0</td>\n",
       "    </tr>\n",
       "    <tr>\n",
       "      <th>1696</th>\n",
       "      <td>0</td>\n",
       "      <td>0</td>\n",
       "      <td>0</td>\n",
       "      <td>0</td>\n",
       "      <td>0</td>\n",
       "      <td>0</td>\n",
       "      <td>0</td>\n",
       "      <td>0</td>\n",
       "      <td>0</td>\n",
       "      <td>0</td>\n",
       "      <td>...</td>\n",
       "      <td>0</td>\n",
       "      <td>0</td>\n",
       "      <td>0</td>\n",
       "      <td>0</td>\n",
       "      <td>0</td>\n",
       "      <td>0</td>\n",
       "      <td>0</td>\n",
       "      <td>0</td>\n",
       "      <td>0</td>\n",
       "      <td>0</td>\n",
       "    </tr>\n",
       "    <tr>\n",
       "      <th>1697</th>\n",
       "      <td>0</td>\n",
       "      <td>0</td>\n",
       "      <td>0</td>\n",
       "      <td>0</td>\n",
       "      <td>0</td>\n",
       "      <td>0</td>\n",
       "      <td>0</td>\n",
       "      <td>0</td>\n",
       "      <td>0</td>\n",
       "      <td>0</td>\n",
       "      <td>...</td>\n",
       "      <td>0</td>\n",
       "      <td>0</td>\n",
       "      <td>0</td>\n",
       "      <td>0</td>\n",
       "      <td>0</td>\n",
       "      <td>0</td>\n",
       "      <td>0</td>\n",
       "      <td>0</td>\n",
       "      <td>0</td>\n",
       "      <td>0</td>\n",
       "    </tr>\n",
       "    <tr>\n",
       "      <th>1698</th>\n",
       "      <td>0</td>\n",
       "      <td>0</td>\n",
       "      <td>0</td>\n",
       "      <td>0</td>\n",
       "      <td>0</td>\n",
       "      <td>0</td>\n",
       "      <td>0</td>\n",
       "      <td>0</td>\n",
       "      <td>0</td>\n",
       "      <td>0</td>\n",
       "      <td>...</td>\n",
       "      <td>0</td>\n",
       "      <td>0</td>\n",
       "      <td>0</td>\n",
       "      <td>0</td>\n",
       "      <td>0</td>\n",
       "      <td>0</td>\n",
       "      <td>0</td>\n",
       "      <td>0</td>\n",
       "      <td>0</td>\n",
       "      <td>0</td>\n",
       "    </tr>\n",
       "  </tbody>\n",
       "</table>\n",
       "<p>1699 rows × 2500 columns</p>\n",
       "</div>"
      ],
      "text/plain": [
       "      08  100  19  19 vaccine  19 vaccines  2020  ab  able  able wini  \\\n",
       "0      0    0   1           1            0     0   0     0          0   \n",
       "1      0    0   0           0            0     0   0     0          0   \n",
       "2      0    0   0           0            0     0   0     0          0   \n",
       "3      0    0   0           0            0     0   0     0          0   \n",
       "4      0    0   1           1            0     0   0     0          0   \n",
       "...   ..  ...  ..         ...          ...   ...  ..   ...        ...   \n",
       "1694   0    0   0           0            0     0   0     0          0   \n",
       "1695   0    0   0           0            0     0   0     0          0   \n",
       "1696   0    0   0           0            0     0   0     0          0   \n",
       "1697   0    0   0           0            0     0   0     0          0   \n",
       "1698   0    0   0           0            0     0   0     0          0   \n",
       "\n",
       "      absolutely  ...  years  years biden  years develop  years lockdown  yes  \\\n",
       "0              0  ...      0            0              0               0    0   \n",
       "1              0  ...      0            0              0               0    0   \n",
       "2              0  ...      0            0              0               0    0   \n",
       "3              0  ...      0            0              0               0    0   \n",
       "4              0  ...      0            0              0               0    0   \n",
       "...          ...  ...    ...          ...            ...             ...  ...   \n",
       "1694           0  ...      0            0              0               0    0   \n",
       "1695           0  ...      0            0              0               0    0   \n",
       "1696           0  ...      0            0              0               0    0   \n",
       "1697           0  ...      0            0              0               0    0   \n",
       "1698           0  ...      0            0              0               0    0   \n",
       "\n",
       "      yes gates  york  young  youre  zero  \n",
       "0             0     0      0      0     0  \n",
       "1             0     0      0      0     0  \n",
       "2             0     0      0      0     0  \n",
       "3             0     0      0      0     0  \n",
       "4             0     0      0      0     0  \n",
       "...         ...   ...    ...    ...   ...  \n",
       "1694          0     0      0      0     0  \n",
       "1695          0     0      0      0     0  \n",
       "1696          0     0      0      0     0  \n",
       "1697          0     0      0      0     0  \n",
       "1698          0     0      0      0     0  \n",
       "\n",
       "[1699 rows x 2500 columns]"
      ]
     },
     "execution_count": 3,
     "metadata": {},
     "output_type": "execute_result"
    }
   ],
   "source": [
    "X_df"
   ]
  },
  {
   "cell_type": "code",
   "execution_count": 4,
   "metadata": {},
   "outputs": [],
   "source": [
    "# get the 2 grams\n",
    "features = X_df.columns.values"
   ]
  },
  {
   "cell_type": "code",
   "execution_count": 5,
   "metadata": {},
   "outputs": [
    {
     "data": {
      "text/plain": [
       "array(['08', '100', '19', ..., 'young', 'youre', 'zero'], dtype=object)"
      ]
     },
     "execution_count": 5,
     "metadata": {},
     "output_type": "execute_result"
    }
   ],
   "source": [
    "# Check the 2 grams\n",
    "features"
   ]
  },
  {
   "cell_type": "code",
   "execution_count": 6,
   "metadata": {},
   "outputs": [],
   "source": [
    "# Get the data matrix\n",
    "X_data = X_df.values"
   ]
  },
  {
   "cell_type": "code",
   "execution_count": 7,
   "metadata": {},
   "outputs": [
    {
     "name": "stdout",
     "output_type": "stream",
     "text": [
      "The number of tweets is :1699, the number of 2 grams is :2500\n"
     ]
    }
   ],
   "source": [
    "print(\"The number of tweets is :{}, the number of 2 grams is :{}\".format(X_data.shape[0],X_data.shape[1]))"
   ]
  },
  {
   "cell_type": "code",
   "execution_count": 8,
   "metadata": {},
   "outputs": [
    {
     "name": "stdout",
     "output_type": "stream",
     "text": [
      "The sparsity of the data matrix: 0.9962\n",
      "Percetage of columns that are all 0s: 0.3572\n",
      "Percetage of columns that only have 1 entry: 0.1528\n"
     ]
    }
   ],
   "source": [
    "# Sanity check\n",
    "\n",
    "## Sparsity\n",
    "print(\"The sparsity of the data matrix: {:.4f}\".format(np.sum(X_data==0)/(X_data.shape[0]*X_data.shape[1])))\n",
    "## Percetage of columns that are all 0s\n",
    "print(\"Percetage of columns that are all 0s: {:.4f}\".format(np.mean(np.sum(X_data,axis=0) == 0)))\n",
    "## Percetage of columns that only have 1 entry\n",
    "print(\"Percetage of columns that only have 1 entry: {:.4f}\".format(np.mean(np.sum(X_data,axis=0) == 1)))"
   ]
  },
  {
   "cell_type": "code",
   "execution_count": 9,
   "metadata": {},
   "outputs": [],
   "source": [
    "# Load the labels: 0-neutral 1-negative 2-positive\n",
    "y = pd.read_csv(\"./labels.csv\",index_col=0)"
   ]
  },
  {
   "cell_type": "code",
   "execution_count": 10,
   "metadata": {},
   "outputs": [],
   "source": [
    "y = y['0'].values"
   ]
  },
  {
   "cell_type": "code",
   "execution_count": 11,
   "metadata": {},
   "outputs": [
    {
     "name": "stdout",
     "output_type": "stream",
     "text": [
      "Percentage of Neutral: 0.6221\n",
      "Percentage of Negative: 0.2301\n",
      "Percentage of Positive: 0.1477\n"
     ]
    }
   ],
   "source": [
    "# Sanity check\n",
    "\n",
    "## Percentage of each label\n",
    "freq = dict(Counter(y))\n",
    "print(\"Percentage of Neutral: {:.4f}\".format(freq[0]/len(y)))\n",
    "print(\"Percentage of Negative: {:.4f}\".format(freq[1]/len(y)))\n",
    "print(\"Percentage of Positive: {:.4f}\".format(freq[2]/len(y)))\n"
   ]
  },
  {
   "cell_type": "markdown",
   "metadata": {},
   "source": [
    "## Preprocessing"
   ]
  },
  {
   "cell_type": "code",
   "execution_count": 12,
   "metadata": {},
   "outputs": [],
   "source": [
    "# Remove columns that are empty\n",
    "non0idx = np.sum(X_data,axis=0) != 0\n",
    "X_data = X_data[:,non0idx]"
   ]
  },
  {
   "cell_type": "code",
   "execution_count": 13,
   "metadata": {},
   "outputs": [
    {
     "name": "stdout",
     "output_type": "stream",
     "text": [
      "The number of tweets is :1699, the number of 2 grams is :1607\n"
     ]
    }
   ],
   "source": [
    "print(\"The number of tweets is :{}, the number of 2 grams is :{}\".format(X_data.shape[0],X_data.shape[1]))"
   ]
  },
  {
   "cell_type": "code",
   "execution_count": 14,
   "metadata": {},
   "outputs": [],
   "source": [
    "# Get the new 2gram names\n",
    "new_feature_names = features[non0idx]"
   ]
  },
  {
   "cell_type": "code",
   "execution_count": 15,
   "metadata": {},
   "outputs": [],
   "source": [
    "# scale the data: z-score\n",
    "X_z = scipy.stats.zscore(X_data,axis=0)"
   ]
  },
  {
   "cell_type": "markdown",
   "metadata": {},
   "source": [
    "## Models training"
   ]
  },
  {
   "cell_type": "markdown",
   "metadata": {},
   "source": [
    "### Training Strategy:\n",
    "\n",
    "1. Data is split into 80% Training, 20% Test. \n",
    "2. For each model (Logistic Regression, Random Forest, Adaboost, Support Vector Machine):  \n",
    "    \n",
    "    (1). Within the Training Set, run 5-fold cross-validation where the 4 fold is used for real training based on a random parameter set (Randomly selected based on the grid range of the parameters), the remaining 1 fold as the validation set to see the model performance. This is process is repeated 50 times. So in total, 250 models will be trained with different parameter settings. At the end, the best parameter settings will be selected and the best model will be trained with all training data. (This whole step is automated by RandomizedSearchCV)\n",
    "    \n",
    "    (2). Run the best model on the test set to get the test ROC"
   ]
  },
  {
   "cell_type": "markdown",
   "metadata": {},
   "source": [
    "##### 1. Data is split into 80% Training, 20% Test"
   ]
  },
  {
   "cell_type": "code",
   "execution_count": 16,
   "metadata": {},
   "outputs": [],
   "source": [
    "X_train, X_test, y_train, y_test = train_test_split(X_z, y, train_size=0.8, random_state=34)"
   ]
  },
  {
   "cell_type": "code",
   "execution_count": 17,
   "metadata": {},
   "outputs": [
    {
     "name": "stdout",
     "output_type": "stream",
     "text": [
      "Number of Training samples: 1359, number of test samples: 340\n"
     ]
    }
   ],
   "source": [
    "print(\"Number of Training samples: {}, number of test samples: {}\".format(X_train.shape[0],X_test.shape[0]))"
   ]
  },
  {
   "cell_type": "markdown",
   "metadata": {},
   "source": [
    "##### 2.Run on Each model"
   ]
  },
  {
   "cell_type": "markdown",
   "metadata": {},
   "source": [
    "##### Random Forest"
   ]
  },
  {
   "cell_type": "code",
   "execution_count": 18,
   "metadata": {},
   "outputs": [],
   "source": [
    "# Set up the grid range of each parameter in the model\n",
    "\n",
    "# n_estimators: the number of trees\n",
    "# max_depth: tree max depth\n",
    "# min_samples_split: minimum number of samples to split at each node\n",
    "\n",
    "rf_grid = {'n_estimators': np.arange(10,510,10),\n",
    "            'max_depth':np.arange(1,31,1) ,\n",
    "            'min_samples_split': np.arange(2,11,1),\n",
    "            }"
   ]
  },
  {
   "cell_type": "code",
   "execution_count": 20,
   "metadata": {},
   "outputs": [
    {
     "data": {
      "text/plain": [
       "RandomizedSearchCV(cv=5, estimator=RandomForestClassifier(random_state=34),\n",
       "                   n_iter=50, n_jobs=6,\n",
       "                   param_distributions={'max_depth': array([ 1,  2,  3,  4,  5,  6,  7,  8,  9, 10, 11, 12, 13, 14, 15, 16, 17,\n",
       "       18, 19, 20, 21, 22, 23, 24, 25, 26, 27, 28, 29, 30]),\n",
       "                                        'min_samples_split': array([ 2,  3,  4,  5,  6,  7,  8,  9, 10]),\n",
       "                                        'n_estimators': array([ 10,  20,  30,  40,  50,  60,  70,  80,  90, 100, 110, 120, 130,\n",
       "       140, 150, 160, 170, 180, 190, 200, 210, 220, 230, 240, 250, 260,\n",
       "       270, 280, 290, 300, 310, 320, 330, 340, 350, 360, 370, 380, 390,\n",
       "       400, 410, 420, 430, 440, 450, 460, 470, 480, 490, 500])},\n",
       "                   random_state=34)"
      ]
     },
     "execution_count": 20,
     "metadata": {},
     "output_type": "execute_result"
    }
   ],
   "source": [
    "# Within the Training Set, run 5-fold cross-validation where the 4 fold is \n",
    "# used for real training based on a random parameter set (Randomly selected based on the grid range of the parameters),\n",
    "# the remaining 1 fold as the validation set to see the model performance. \n",
    "# This is process is repeated 50 times. So in total, 250 models will be trained with different parameter settings. \n",
    "# At the end, the best parameter settings will be selected and the best model will be trained with all training data. \n",
    "# This whole step is automated by RandomizedSearchCV function\n",
    "\n",
    "# Specify the random forest model\n",
    "rf_base = RF(random_state=34)\n",
    "# Run RandomizedSearchCV within the training set\n",
    "rf_random = RandomizedSearchCV(estimator = rf_base, param_distributions = rf_grid, \n",
    "                               n_iter = 50, cv = 5, random_state = 34, \n",
    "                               n_jobs = 6)\n",
    "rf_random.fit(X_train, y_train)"
   ]
  },
  {
   "cell_type": "code",
   "execution_count": 21,
   "metadata": {},
   "outputs": [
    {
     "data": {
      "text/plain": [
       "{'n_estimators': 490, 'min_samples_split': 4, 'max_depth': 27}"
      ]
     },
     "execution_count": 21,
     "metadata": {},
     "output_type": "execute_result"
    }
   ],
   "source": [
    "# Check what is the best parameter setting\n",
    "rf_random.best_params_"
   ]
  },
  {
   "cell_type": "code",
   "execution_count": 22,
   "metadata": {},
   "outputs": [],
   "source": [
    "# Use the best model to predict on the test set\n",
    "y_pred_rf = rf_random.predict_proba(X_test)"
   ]
  },
  {
   "cell_type": "code",
   "execution_count": 23,
   "metadata": {},
   "outputs": [
    {
     "data": {
      "text/plain": [
       "0.7530083762476952"
      ]
     },
     "execution_count": 23,
     "metadata": {},
     "output_type": "execute_result"
    }
   ],
   "source": [
    "# Check the test ROC_AUC\n",
    "roc_auc_score(y_test, y_pred_rf,multi_class=\"ovo\") "
   ]
  },
  {
   "cell_type": "markdown",
   "metadata": {},
   "source": [
    "##### Logitstic Regression"
   ]
  },
  {
   "cell_type": "code",
   "execution_count": 27,
   "metadata": {},
   "outputs": [],
   "source": [
    "# Similar steps"
   ]
  },
  {
   "cell_type": "code",
   "execution_count": 24,
   "metadata": {},
   "outputs": [],
   "source": [
    "lr_grid = {'C':np.logspace(-4,-1,50)}"
   ]
  },
  {
   "cell_type": "code",
   "execution_count": 25,
   "metadata": {},
   "outputs": [
    {
     "data": {
      "text/plain": [
       "RandomizedSearchCV(cv=5, estimator=LogisticRegression(random_state=34),\n",
       "                   n_iter=50, n_jobs=6,\n",
       "                   param_distributions={'C': array([0.0001    , 0.00011514, 0.00013257, 0.00015264, 0.00017575,\n",
       "       0.00020236, 0.000233  , 0.00026827, 0.00030888, 0.00035565,\n",
       "       0.00040949, 0.00047149, 0.00054287, 0.00062506, 0.00071969,\n",
       "       0.00082864, 0.0009541 , 0.00109854, 0.00126486, 0.00145635,\n",
       "       0.00167683, 0.0019307 , 0.002223  , 0.00255955, 0.00294705,\n",
       "       0.00339322, 0.00390694, 0.00449843, 0.00517947, 0.00596362,\n",
       "       0.00686649, 0.00790604, 0.00910298, 0.01048113, 0.01206793,\n",
       "       0.01389495, 0.01599859, 0.0184207 , 0.02120951, 0.02442053,\n",
       "       0.02811769, 0.03237458, 0.03727594, 0.04291934, 0.04941713,\n",
       "       0.05689866, 0.06551286, 0.0754312 , 0.08685114, 0.1       ])},\n",
       "                   random_state=34)"
      ]
     },
     "execution_count": 25,
     "metadata": {},
     "output_type": "execute_result"
    }
   ],
   "source": [
    "lr_base = LR(random_state=34)\n",
    "lr_random = RandomizedSearchCV(estimator = lr_base, param_distributions = lr_grid, \n",
    "                               n_iter = 50, cv = 5, random_state = 34, \n",
    "                               n_jobs = 6)\n",
    "lr_random.fit(X_train, y_train)"
   ]
  },
  {
   "cell_type": "code",
   "execution_count": 26,
   "metadata": {},
   "outputs": [
    {
     "data": {
      "text/plain": [
       "{'C': 0.005179474679231213}"
      ]
     },
     "execution_count": 26,
     "metadata": {},
     "output_type": "execute_result"
    }
   ],
   "source": [
    "lr_random.best_params_"
   ]
  },
  {
   "cell_type": "code",
   "execution_count": 27,
   "metadata": {},
   "outputs": [],
   "source": [
    "y_pred_lr = lr_random.predict_proba(X_test)"
   ]
  },
  {
   "cell_type": "code",
   "execution_count": 28,
   "metadata": {},
   "outputs": [
    {
     "data": {
      "text/plain": [
       "0.7602656716892365"
      ]
     },
     "execution_count": 28,
     "metadata": {},
     "output_type": "execute_result"
    }
   ],
   "source": [
    "roc_auc_score(y_test, y_pred_lr,multi_class=\"ovo\") "
   ]
  },
  {
   "cell_type": "markdown",
   "metadata": {},
   "source": [
    "##### Adaboost"
   ]
  },
  {
   "cell_type": "code",
   "execution_count": null,
   "metadata": {},
   "outputs": [],
   "source": [
    "# Similar steps"
   ]
  },
  {
   "cell_type": "code",
   "execution_count": 29,
   "metadata": {},
   "outputs": [],
   "source": [
    "ada_grids = {\n",
    "    'n_estimators': np.arange(10,510,10),\n",
    "    'learning_rate':np.logspace(-4,0,20),\n",
    "}"
   ]
  },
  {
   "cell_type": "code",
   "execution_count": 30,
   "metadata": {},
   "outputs": [
    {
     "data": {
      "text/plain": [
       "RandomizedSearchCV(cv=5, estimator=AdaBoostClassifier(random_state=34),\n",
       "                   n_iter=50, n_jobs=6,\n",
       "                   param_distributions={'learning_rate': array([1.00000000e-04, 1.62377674e-04, 2.63665090e-04, 4.28133240e-04,\n",
       "       6.95192796e-04, 1.12883789e-03, 1.83298071e-03, 2.97635144e-03,\n",
       "       4.83293024e-03, 7.84759970e-03, 1.27427499e-02, 2.06913808e-02,\n",
       "       3.35981829e-02, 5.45559478e-02, 8.85866790e-02, 1.43844989e-01,\n",
       "       2.33572147e-01, 3.79269019e-01, 6.15848211e-01, 1.00000000e+00]),\n",
       "                                        'n_estimators': array([ 10,  20,  30,  40,  50,  60,  70,  80,  90, 100, 110, 120, 130,\n",
       "       140, 150, 160, 170, 180, 190, 200, 210, 220, 230, 240, 250, 260,\n",
       "       270, 280, 290, 300, 310, 320, 330, 340, 350, 360, 370, 380, 390,\n",
       "       400, 410, 420, 430, 440, 450, 460, 470, 480, 490, 500])},\n",
       "                   random_state=34)"
      ]
     },
     "execution_count": 30,
     "metadata": {},
     "output_type": "execute_result"
    }
   ],
   "source": [
    "ada_base = AdaBoostClassifier(random_state=34)\n",
    "ada_random = RandomizedSearchCV(estimator = ada_base, param_distributions = ada_grids, \n",
    "                               n_iter = 50, cv = 5, random_state = 34, \n",
    "                               n_jobs = 6)\n",
    "ada_random.fit(X_train, y_train)"
   ]
  },
  {
   "cell_type": "code",
   "execution_count": 31,
   "metadata": {},
   "outputs": [
    {
     "data": {
      "text/plain": [
       "{'n_estimators': 360, 'learning_rate': 0.05455594781168514}"
      ]
     },
     "execution_count": 31,
     "metadata": {},
     "output_type": "execute_result"
    }
   ],
   "source": [
    "ada_random.best_params_"
   ]
  },
  {
   "cell_type": "code",
   "execution_count": 32,
   "metadata": {},
   "outputs": [],
   "source": [
    "y_pred_ada = ada_random.predict_proba(X_test)"
   ]
  },
  {
   "cell_type": "code",
   "execution_count": 33,
   "metadata": {},
   "outputs": [
    {
     "data": {
      "text/plain": [
       "0.6976508360353487"
      ]
     },
     "execution_count": 33,
     "metadata": {},
     "output_type": "execute_result"
    }
   ],
   "source": [
    "roc_auc_score(y_test, y_pred_ada,multi_class=\"ovo\") "
   ]
  },
  {
   "cell_type": "markdown",
   "metadata": {},
   "source": [
    "##### Support Vector Machine"
   ]
  },
  {
   "cell_type": "code",
   "execution_count": null,
   "metadata": {},
   "outputs": [],
   "source": [
    "# Similar steps"
   ]
  },
  {
   "cell_type": "code",
   "execution_count": 42,
   "metadata": {},
   "outputs": [],
   "source": [
    "SVM_grids = {\n",
    "    'C':np.logspace(-3,-1,20),\n",
    "    'kernel':['linear', 'poly', 'rbf', 'sigmoid'],\n",
    "    'gamma':np.logspace(-3,1,10),\n",
    "    'max_iter':[10000,15000,20000],\n",
    "}"
   ]
  },
  {
   "cell_type": "code",
   "execution_count": 43,
   "metadata": {},
   "outputs": [
    {
     "data": {
      "text/plain": [
       "RandomizedSearchCV(cv=5, estimator=SVC(probability=True, random_state=34),\n",
       "                   n_iter=50, n_jobs=6,\n",
       "                   param_distributions={'C': array([0.001     , 0.00127427, 0.00162378, 0.00206914, 0.00263665,\n",
       "       0.00335982, 0.00428133, 0.00545559, 0.00695193, 0.00885867,\n",
       "       0.01128838, 0.0143845 , 0.01832981, 0.02335721, 0.02976351,\n",
       "       0.0379269 , 0.0483293 , 0.06158482, 0.078476  , 0.1       ]),\n",
       "                                        'gamma': array([1.00000000e-03, 2.78255940e-03, 7.74263683e-03, 2.15443469e-02,\n",
       "       5.99484250e-02, 1.66810054e-01, 4.64158883e-01, 1.29154967e+00,\n",
       "       3.59381366e+00, 1.00000000e+01]),\n",
       "                                        'kernel': ['linear', 'poly', 'rbf',\n",
       "                                                   'sigmoid'],\n",
       "                                        'max_iter': [10000, 15000, 20000]},\n",
       "                   random_state=34)"
      ]
     },
     "execution_count": 43,
     "metadata": {},
     "output_type": "execute_result"
    }
   ],
   "source": [
    "SVM_base = SVC(random_state=34,probability=True)\n",
    "SVM_random = RandomizedSearchCV(estimator = SVM_base, param_distributions = SVM_grids, \n",
    "                               n_iter = 50, cv = 5, random_state = 34, \n",
    "                               n_jobs = 6)\n",
    "SVM_random.fit(X_train, y_train)"
   ]
  },
  {
   "cell_type": "code",
   "execution_count": 44,
   "metadata": {},
   "outputs": [
    {
     "data": {
      "text/plain": [
       "{'max_iter': 20000,\n",
       " 'kernel': 'linear',\n",
       " 'gamma': 0.001,\n",
       " 'C': 0.0026366508987303583}"
      ]
     },
     "execution_count": 44,
     "metadata": {},
     "output_type": "execute_result"
    }
   ],
   "source": [
    "SVM_random.best_params_"
   ]
  },
  {
   "cell_type": "code",
   "execution_count": 45,
   "metadata": {},
   "outputs": [],
   "source": [
    "y_pred_svm = SVM_random.predict_proba(X_test)"
   ]
  },
  {
   "cell_type": "code",
   "execution_count": 46,
   "metadata": {},
   "outputs": [
    {
     "data": {
      "text/plain": [
       "0.7530683768834638"
      ]
     },
     "execution_count": 46,
     "metadata": {},
     "output_type": "execute_result"
    }
   ],
   "source": [
    "roc_auc_score(y_test, y_pred_svm,multi_class=\"ovo\") "
   ]
  }
 ],
 "metadata": {
  "kernelspec": {
   "display_name": "Python 3",
   "language": "python",
   "name": "python3"
  },
  "language_info": {
   "codemirror_mode": {
    "name": "ipython",
    "version": 3
   },
   "file_extension": ".py",
   "mimetype": "text/x-python",
   "name": "python",
   "nbconvert_exporter": "python",
   "pygments_lexer": "ipython3",
   "version": "3.7.7"
  }
 },
 "nbformat": 4,
 "nbformat_minor": 4
}
